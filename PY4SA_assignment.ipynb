{
 "cells": [
  {
   "attachments": {},
   "cell_type": "markdown",
   "metadata": {},
   "source": [
    "#### Lab Assignment 1 - Jack Travers\n",
    "#### Student ID: 200013389\n",
    "#### GitHub URL: https://github.com/Jacktravers81/PY4SA23_Assignment"
   ]
  },
  {
   "attachments": {},
   "cell_type": "markdown",
   "metadata": {},
   "source": [
    "##### Section One: Python Basics"
   ]
  },
  {
   "attachments": {},
   "cell_type": "markdown",
   "metadata": {},
   "source": [
    "Task 1: Create an If...Else statement that will test whether a number is divisible by three."
   ]
  },
  {
   "cell_type": "code",
   "execution_count": 79,
   "metadata": {},
   "outputs": [
    {
     "name": "stdout",
     "output_type": "stream",
     "text": [
      "11 is not divisible by 3\n"
     ]
    }
   ],
   "source": [
    "def divisible (n):\n",
    "    if n % 3 == 0:\n",
    "        print (n, \"is divisible by 3\")\n",
    "    else:\n",
    "        print (n, \"is not divisible by 3\")\n",
    "divisible (11)"
   ]
  },
  {
   "attachments": {},
   "cell_type": "markdown",
   "metadata": {},
   "source": [
    "Task 2: Create an If...Else statement that will test whether a type of fruit, represented as a text string, is in a list of acceptable fruits (apple, orange, pear, kiwi, or strawberry)."
   ]
  },
  {
   "cell_type": "code",
   "execution_count": 43,
   "metadata": {},
   "outputs": [
    {
     "name": "stdout",
     "output_type": "stream",
     "text": [
      "berry is not acceptable\n"
     ]
    }
   ],
   "source": [
    "fruit = [\"apple\", \"orange\", \"pear\", \"kiwi\", \"strawberry\"]\n",
    "\n",
    "def library(check):\n",
    "    if check in fruit:\n",
    "        print (check, \"is acceptable\")\n",
    "    else:\n",
    "        print (check, \"is not acceptable\")\n",
    "\n",
    "library(\"berry\")"
   ]
  },
  {
   "attachments": {},
   "cell_type": "markdown",
   "metadata": {},
   "source": [
    "Task 3: Create a function to calculate the distance between two coordinates using the haversine\n",
    "formula. Write the following formula where the input parameters are a pair of coordinates as two\n",
    "lists."
   ]
  },
  {
   "cell_type": "code",
   "execution_count": 44,
   "metadata": {},
   "outputs": [
    {
     "ename": "SyntaxError",
     "evalue": "invalid character '²' (U+00B2) (1688034982.py, line 5)",
     "output_type": "error",
     "traceback": [
      "\u001b[1;36m  Cell \u001b[1;32mIn[44], line 5\u001b[1;36m\u001b[0m\n\u001b[1;33m    a = sin²(φB - φA/2) + cos φA * cos φB * sin²(λB - λA/2)\u001b[0m\n\u001b[1;37m           ^\u001b[0m\n\u001b[1;31mSyntaxError\u001b[0m\u001b[1;31m:\u001b[0m invalid character '²' (U+00B2)\n"
     ]
    }
   ],
   "source": [
    "# COME BACK TO ME!!!!! \n",
    "\n",
    "a = sin²(φB - φA/2) + cos φA * cos φB * sin²(λB - λA/2)\n",
    "c = 2 * atan2( √a, √(1−a) )\n",
    "d = R ⋅ c"
   ]
  },
  {
   "attachments": {},
   "cell_type": "markdown",
   "metadata": {},
   "source": [
    "##### Section Two: Pandas and NumPy"
   ]
  },
  {
   "attachments": {},
   "cell_type": "markdown",
   "metadata": {},
   "source": [
    "Question 1: How many trees are of the Quercus or Acer genus?"
   ]
  },
  {
   "cell_type": "code",
   "execution_count": 11,
   "metadata": {},
   "outputs": [
    {
     "data": {
      "text/plain": [
       "Genus\n",
       "Pseudotsuga      6783\n",
       "Acer             3586\n",
       "Quercus          2089\n",
       "Prunus           1333\n",
       "Pinus             983\n",
       "                 ... \n",
       "Eucommia            1\n",
       "Eriobotrya          1\n",
       "Daphniphyllum       1\n",
       "Schima              1\n",
       "Illicium            1\n",
       "Length: 117, dtype: int64"
      ]
     },
     "execution_count": 11,
     "metadata": {},
     "output_type": "execute_result"
    }
   ],
   "source": [
    "import numpy as np \n",
    "import pandas as pd \n",
    "trees_df = pd.read_csv(\"Assignment 2 Data\\portland_park_trees.csv\", index_col=30)\n",
    "\n",
    "trees_df.value_counts(\"Genus\")"
   ]
  },
  {
   "attachments": {},
   "cell_type": "markdown",
   "metadata": {},
   "source": [
    "Answers:\n",
    "Genus *Acer*: 3586,\n",
    "Genus *Quercus*: 2089"
   ]
  },
  {
   "attachments": {},
   "cell_type": "markdown",
   "metadata": {},
   "source": [
    "Question 2: : How many trees are of the Quercus or Acer genus and have a DBH larger than 50 inches?"
   ]
  },
  {
   "cell_type": "code",
   "execution_count": 55,
   "metadata": {},
   "outputs": [
    {
     "name": "stdout",
     "output_type": "stream",
     "text": [
      "      Genus   DBH\n",
      "127    Acer  50.5\n",
      "152    Acer  50.5\n",
      "154    Acer  52.7\n",
      "162    Acer  56.3\n",
      "593    Acer  50.9\n",
      "595    Acer  53.0\n",
      "680    Acer  52.7\n",
      "814    Acer  53.5\n",
      "839    Acer  53.5\n",
      "1936   Acer  51.6\n",
      "3077   Acer  52.7\n",
      "3116   Acer  59.2\n",
      "3127   Acer  52.6\n",
      "3129   Acer  50.3\n",
      "3217   Acer  58.0\n",
      "3232   Acer  53.3\n",
      "3247   Acer  55.0\n",
      "3251   Acer  58.0\n",
      "3253   Acer  65.0\n",
      "5423   Acer  65.9\n",
      "6159   Acer  50.1\n",
      "6409   Acer  73.0\n",
      "8916   Acer  54.0\n",
      "12329  Acer  60.0\n",
      "12336  Acer  58.4\n",
      "12338  Acer  61.1\n",
      "12396  Acer  62.8\n",
      "15847  Acer  55.1\n",
      "17243  Acer  54.8\n",
      "18122  Acer  54.3\n",
      "19709  Acer  56.5\n",
      "19894  Acer  54.0\n",
      "20167  Acer  52.4\n",
      "20224  Acer  56.3\n",
      "20235  Acer  66.7\n",
      "20655  Acer  53.7\n",
      "23318  Acer  51.0\n",
      "23481  Acer  59.4\n",
      "23869  Acer  59.3\n",
      "23892  Acer  63.7\n",
      "23932  Acer  55.8\n",
      "23957  Acer  59.5\n",
      "25499  Acer  84.5\n",
      "25506  Acer  63.0\n",
      "\n"
     ]
    }
   ],
   "source": [
    "import numpy as np \n",
    "import pandas as pd \n",
    "trees_df = pd.read_csv(\"Assignment 2 Data\\portland_park_trees.csv\")\n",
    "\n",
    "just_acer = trees_df[(trees_df[\"Genus\"]==\"Acer\") & (trees_df[\"DBH\"]>50)][[\"Genus\", \"DBH\"]]\n",
    "print(just_acer)\n",
    "print('')\n",
    "# just_quercus = trees_df[(trees_df[\"Genus\"]==\"Quercus\") & (trees_df[\"DBH\"]>50)][[\"Genus\", \"DBH\"]]\n",
    "# print(just_quercus)\n",
    "# print('')\n"
   ]
  }
 ],
 "metadata": {
  "kernelspec": {
   "display_name": "py4sa",
   "language": "python",
   "name": "python3"
  },
  "language_info": {
   "codemirror_mode": {
    "name": "ipython",
    "version": 3
   },
   "file_extension": ".py",
   "mimetype": "text/x-python",
   "name": "python",
   "nbconvert_exporter": "python",
   "pygments_lexer": "ipython3",
   "version": "3.10.9"
  },
  "orig_nbformat": 4
 },
 "nbformat": 4,
 "nbformat_minor": 2
}
