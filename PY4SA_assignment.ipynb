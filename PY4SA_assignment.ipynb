{
 "cells": [
  {
   "attachments": {},
   "cell_type": "markdown",
   "metadata": {},
   "source": [
    "#### Lab Assignment 1 - Jack Travers\n",
    "#### Student ID: 200013389\n",
    "#### GitHub URL: https://github.com/Jacktravers81/PY4SA23_Assignment"
   ]
  },
  {
   "attachments": {},
   "cell_type": "markdown",
   "metadata": {},
   "source": [
    "##### Section One: Python Basics"
   ]
  },
  {
   "attachments": {},
   "cell_type": "markdown",
   "metadata": {},
   "source": [
    "Task 1: Create an If...Else statement that will test whether a number is divisible by three."
   ]
  },
  {
   "cell_type": "code",
   "execution_count": 79,
   "metadata": {},
   "outputs": [
    {
     "name": "stdout",
     "output_type": "stream",
     "text": [
      "11 is not divisible by 3\n"
     ]
    }
   ],
   "source": [
    "def divisible (n):\n",
    "    if n % 3 == 0:\n",
    "        print (n, \"is divisible by 3\")\n",
    "    else:\n",
    "        print (n, \"is not divisible by 3\")\n",
    "divisible (11)"
   ]
  },
  {
   "attachments": {},
   "cell_type": "markdown",
   "metadata": {},
   "source": [
    "Task 2: Create an If...Else statement that will test whether a type of fruit, represented as a text string, is in a list of acceptable fruits (apple, orange, pear, kiwi, or strawberry)."
   ]
  },
  {
   "cell_type": "code",
   "execution_count": 43,
   "metadata": {},
   "outputs": [
    {
     "name": "stdout",
     "output_type": "stream",
     "text": [
      "berry is not acceptable\n"
     ]
    }
   ],
   "source": [
    "fruit = [\"apple\", \"orange\", \"pear\", \"kiwi\", \"strawberry\"]\n",
    "\n",
    "def library(check):\n",
    "    if check in fruit:\n",
    "        print (check, \"is acceptable\")\n",
    "    else:\n",
    "        print (check, \"is not acceptable\")\n",
    "\n",
    "library(\"berry\")"
   ]
  },
  {
   "attachments": {},
   "cell_type": "markdown",
   "metadata": {},
   "source": [
    "Task 3: Create a function to calculate the distance between two coordinates using the haversine\n",
    "formula. Write the following formula where the input parameters are a pair of coordinates as two\n",
    "lists."
   ]
  },
  {
   "cell_type": "code",
   "execution_count": 95,
   "metadata": {},
   "outputs": [
    {
     "ename": "SyntaxError",
     "evalue": "invalid character '²' (U+00B2) (2577503932.py, line 4)",
     "output_type": "error",
     "traceback": [
      "\u001b[1;36m  Cell \u001b[1;32mIn[95], line 4\u001b[1;36m\u001b[0m\n\u001b[1;33m    a = sin²(φB - φA/2) + cos φA * cos φB * sin²(λB - λA/2)\u001b[0m\n\u001b[1;37m           ^\u001b[0m\n\u001b[1;31mSyntaxError\u001b[0m\u001b[1;31m:\u001b[0m invalid character '²' (U+00B2)\n"
     ]
    }
   ],
   "source": [
    "# COME BACK TO ME!!!!! \n",
    "import math\n",
    "\n",
    "a = sin²(φB - φA/2) + cos φA * cos φB * sin²(λB - λA/2)\n",
    "c = 2 * atan2( √a, √(1−a) )\n",
    "d = R ⋅ c"
   ]
  },
  {
   "attachments": {},
   "cell_type": "markdown",
   "metadata": {},
   "source": [
    "##### Section Two: Pandas and NumPy"
   ]
  },
  {
   "attachments": {},
   "cell_type": "markdown",
   "metadata": {},
   "source": [
    "Question 1: How many trees are of the Quercus or Acer genus?"
   ]
  },
  {
   "cell_type": "code",
   "execution_count": 79,
   "metadata": {},
   "outputs": [
    {
     "data": {
      "text/plain": [
       "Genus\n",
       "Pseudotsuga      6783\n",
       "Acer             3586\n",
       "Quercus          2089\n",
       "Prunus           1333\n",
       "Pinus             983\n",
       "                 ... \n",
       "Eucommia            1\n",
       "Eriobotrya          1\n",
       "Daphniphyllum       1\n",
       "Schima              1\n",
       "Illicium            1\n",
       "Length: 117, dtype: int64"
      ]
     },
     "execution_count": 79,
     "metadata": {},
     "output_type": "execute_result"
    }
   ],
   "source": [
    "import numpy as np \n",
    "import pandas as pd \n",
    "trees_df = pd.read_csv(\"Assignment 2 Data\\portland_park_trees.csv\", index_col=30)\n",
    "\n",
    "trees_df.value_counts(\"Genus\")"
   ]
  },
  {
   "attachments": {},
   "cell_type": "markdown",
   "metadata": {},
   "source": [
    "Answer:\n",
    "*Acer*: 3586,\n",
    "*Quercus*: 2089"
   ]
  },
  {
   "attachments": {},
   "cell_type": "markdown",
   "metadata": {},
   "source": [
    "Question 2: : How many trees are of the Quercus or Acer genus and have a DBH larger than 50 inches?"
   ]
  },
  {
   "cell_type": "code",
   "execution_count": 91,
   "metadata": {},
   "outputs": [
    {
     "name": "stdout",
     "output_type": "stream",
     "text": [
      "44\n",
      "80\n"
     ]
    }
   ],
   "source": [
    "import numpy as np \n",
    "import pandas as pd \n",
    "trees_df = pd.read_csv(\"Assignment 2 Data\\portland_park_trees.csv\")\n",
    "\n",
    "just_acer = trees_df[(trees_df[\"Genus\"]==\"Acer\") & (trees_df[\"DBH\"]>50)][[\"Genus\", \"DBH\"]]\n",
    "print(len(just_acer))\n",
    "\n",
    "just_quercus = trees_df[(trees_df[\"Genus\"]==\"Quercus\") & (trees_df[\"DBH\"]>50)][[\"Genus\", \"DBH\"]]\n",
    "print(len(just_quercus))\n"
   ]
  },
  {
   "attachments": {},
   "cell_type": "markdown",
   "metadata": {},
   "source": [
    "Answer: *Acer*: 44, *Quercus*: 80"
   ]
  },
  {
   "attachments": {},
   "cell_type": "markdown",
   "metadata": {},
   "source": [
    "Question 3: Which genus has the highest mean DBH of the following genera: Quercus, Acer, or Fraxinus? "
   ]
  },
  {
   "cell_type": "code",
   "execution_count": 89,
   "metadata": {},
   "outputs": [
    {
     "name": "stdout",
     "output_type": "stream",
     "text": [
      "DBH    18.419085\n",
      "dtype: float64\n",
      "DBH    23.568238\n",
      "dtype: float64\n",
      "DBH    11.03361\n",
      "dtype: float64\n"
     ]
    },
    {
     "name": "stderr",
     "output_type": "stream",
     "text": [
      "C:\\Users\\User\\AppData\\Local\\Temp\\ipykernel_18164\\1292205718.py:9: FutureWarning: The default value of numeric_only in DataFrame.mean is deprecated. In a future version, it will default to False. In addition, specifying 'numeric_only=None' is deprecated. Select only valid columns or specify the value of numeric_only to silence this warning.\n",
      "  acer_stats = trees_df[trees_df[\"Genus\"]==\"Acer\"][[\"Genus\", \"DBH\"]].mean()\n",
      "C:\\Users\\User\\AppData\\Local\\Temp\\ipykernel_18164\\1292205718.py:10: FutureWarning: The default value of numeric_only in DataFrame.mean is deprecated. In a future version, it will default to False. In addition, specifying 'numeric_only=None' is deprecated. Select only valid columns or specify the value of numeric_only to silence this warning.\n",
      "  quercus_stats = trees_df[trees_df[\"Genus\"]==\"Quercus\"][[\"Genus\", \"DBH\"]].mean()\n",
      "C:\\Users\\User\\AppData\\Local\\Temp\\ipykernel_18164\\1292205718.py:11: FutureWarning: The default value of numeric_only in DataFrame.mean is deprecated. In a future version, it will default to False. In addition, specifying 'numeric_only=None' is deprecated. Select only valid columns or specify the value of numeric_only to silence this warning.\n",
      "  fraxinus_stats = trees_df[trees_df[\"Genus\"]==\"Fraxinus\"][[\"Genus\", \"DBH\"]].mean()\n"
     ]
    }
   ],
   "source": [
    "import numpy as np \n",
    "import pandas as pd \n",
    "trees_df = pd.read_csv(\"Assignment 2 Data\\portland_park_trees.csv\", sep=\",\", header=0, encoding=\"ISO-8859-1\")\n",
    "trees_df.columns = [column.replace(\" \", \"_\") for column in trees_df.columns]\n",
    "tree_stats = pd.DataFrame()\n",
    "tree_stats [\"Mean\"] = trees_df.groupby(\"Genus\")['DBH'].mean()\n",
    "tree_stats\n",
    "\n",
    "acer_stats = trees_df[trees_df[\"Genus\"]==\"Acer\"][[\"Genus\", \"DBH\"]].mean()\n",
    "quercus_stats = trees_df[trees_df[\"Genus\"]==\"Quercus\"][[\"Genus\", \"DBH\"]].mean()\n",
    "fraxinus_stats = trees_df[trees_df[\"Genus\"]==\"Fraxinus\"][[\"Genus\", \"DBH\"]].mean()\n",
    "\n",
    "print(acer_stats)\n",
    "print(quercus_stats)\n",
    "print(fraxinus_stats)\n"
   ]
  },
  {
   "attachments": {},
   "cell_type": "markdown",
   "metadata": {},
   "source": [
    "Answer: *Acer* mean DBH: 18.4, *Quercus* mean DBH: 23.6, *Fraxinus* mean DBH: 11"
   ]
  },
  {
   "attachments": {},
   "cell_type": "markdown",
   "metadata": {},
   "source": [
    "Question 4: How many different species of trees are recorded in the Acer genus?"
   ]
  },
  {
   "cell_type": "code",
   "execution_count": 93,
   "metadata": {},
   "outputs": [
    {
     "data": {
      "text/plain": [
       "20"
      ]
     },
     "execution_count": 93,
     "metadata": {},
     "output_type": "execute_result"
    }
   ],
   "source": [
    "just_acer[\"Species\"].nunique()"
   ]
  },
  {
   "attachments": {},
   "cell_type": "markdown",
   "metadata": {},
   "source": [
    "Answer: Different *Acer* species: 20"
   ]
  },
  {
   "attachments": {},
   "cell_type": "markdown",
   "metadata": {},
   "source": [
    "Question 5: cities.csv dataframe tasks"
   ]
  },
  {
   "attachments": {},
   "cell_type": "markdown",
   "metadata": {},
   "source": [
    "• Calculate a new column named \"pop_M\" (population in millions), by transforming the\n",
    "\"pop\" (population) column"
   ]
  },
  {
   "cell_type": "code",
   "execution_count": 121,
   "metadata": {},
   "outputs": [
    {
     "data": {
      "text/html": [
       "<div>\n",
       "<style scoped>\n",
       "    .dataframe tbody tr th:only-of-type {\n",
       "        vertical-align: middle;\n",
       "    }\n",
       "\n",
       "    .dataframe tbody tr th {\n",
       "        vertical-align: top;\n",
       "    }\n",
       "\n",
       "    .dataframe thead th {\n",
       "        text-align: right;\n",
       "    }\n",
       "</style>\n",
       "<table border=\"1\" class=\"dataframe\">\n",
       "  <thead>\n",
       "    <tr style=\"text-align: right;\">\n",
       "      <th></th>\n",
       "      <th>city</th>\n",
       "      <th>country</th>\n",
       "      <th>lat</th>\n",
       "      <th>lon</th>\n",
       "      <th>capital</th>\n",
       "      <th>pop_M</th>\n",
       "    </tr>\n",
       "  </thead>\n",
       "  <tbody>\n",
       "    <tr>\n",
       "      <th>33285</th>\n",
       "      <td>San'a</td>\n",
       "      <td>Yemen</td>\n",
       "      <td>15.38</td>\n",
       "      <td>44.21</td>\n",
       "      <td>1</td>\n",
       "      <td>1.921589</td>\n",
       "    </tr>\n",
       "    <tr>\n",
       "      <th>36905</th>\n",
       "      <td>Ta'izz</td>\n",
       "      <td>Yemen</td>\n",
       "      <td>13.60</td>\n",
       "      <td>44.04</td>\n",
       "      <td>0</td>\n",
       "      <td>0.690689</td>\n",
       "    </tr>\n",
       "    <tr>\n",
       "      <th>43305</th>\n",
       "      <td>al-Hudaydah</td>\n",
       "      <td>Yemen</td>\n",
       "      <td>14.80</td>\n",
       "      <td>42.95</td>\n",
       "      <td>0</td>\n",
       "      <td>0.677315</td>\n",
       "    </tr>\n",
       "    <tr>\n",
       "      <th>390</th>\n",
       "      <td>Aden</td>\n",
       "      <td>Yemen</td>\n",
       "      <td>12.79</td>\n",
       "      <td>45.03</td>\n",
       "      <td>0</td>\n",
       "      <td>0.625361</td>\n",
       "    </tr>\n",
       "    <tr>\n",
       "      <th>43432</th>\n",
       "      <td>al-Mukalla</td>\n",
       "      <td>Yemen</td>\n",
       "      <td>14.54</td>\n",
       "      <td>49.13</td>\n",
       "      <td>0</td>\n",
       "      <td>0.307033</td>\n",
       "    </tr>\n",
       "  </tbody>\n",
       "</table>\n",
       "</div>"
      ],
      "text/plain": [
       "              city country    lat    lon  capital     pop_M\n",
       "33285        San'a   Yemen  15.38  44.21        1  1.921589\n",
       "36905       Ta'izz   Yemen  13.60  44.04        0  0.690689\n",
       "43305  al-Hudaydah   Yemen  14.80  42.95        0  0.677315\n",
       "390           Aden   Yemen  12.79  45.03        0  0.625361\n",
       "43432   al-Mukalla   Yemen  14.54  49.13        0  0.307033"
      ]
     },
     "execution_count": 121,
     "metadata": {},
     "output_type": "execute_result"
    }
   ],
   "source": [
    "import pandas as pd \n",
    "cities_df = pd.read_csv(\"Assignment 2 Data\\world_cities.csv\")\n",
    "cities_df[\"pop_M\"] = (cities_df[\"pop\"]/1000000)"
   ]
  },
  {
   "attachments": {},
   "cell_type": "markdown",
   "metadata": {},
   "source": [
    "• Remove the original \"pop\" column"
   ]
  },
  {
   "cell_type": "code",
   "execution_count": null,
   "metadata": {},
   "outputs": [],
   "source": [
    "cities_df.drop(\"pop\", axis=1, inplace=True)\n",
    "cities_j = cities_df[cities_df.city.str.startswith('J')]\n",
    "cities_j.head(1)"
   ]
  },
  {
   "attachments": {},
   "cell_type": "markdown",
   "metadata": {},
   "source": [
    "• Choose/subset a city that starts with the same letter as your first name (for example,\n",
    "\"Mexico City\" if your first name is Michael)"
   ]
  },
  {
   "cell_type": "code",
   "execution_count": null,
   "metadata": {},
   "outputs": [],
   "source": [
    "cities_j = cities_df[cities_df.city.str.startswith('J')]\n",
    "cities_j.head(1)"
   ]
  },
  {
   "attachments": {},
   "cell_type": "markdown",
   "metadata": {},
   "source": [
    "• Subset the five biggest (i.e., largest population sizes) cities from the country where your\n",
    "selected city is"
   ]
  },
  {
   "cell_type": "code",
   "execution_count": null,
   "metadata": {},
   "outputs": [],
   "source": [
    "(cities_df.query(\"country == 'Yemen'\")\n",
    ".sort_values(\"pop_M\", ascending=False)\n",
    ".head(5))"
   ]
  },
  {
   "attachments": {},
   "cell_type": "markdown",
   "metadata": {},
   "source": [
    "##### Section Three: Python Data Visualization"
   ]
  },
  {
   "attachments": {},
   "cell_type": "markdown",
   "metadata": {},
   "source": [
    "Graph 1: Create a scatterplot for just trees in the Ulmus genus with DBH mapped to the x-axis\n",
    "and tree height mapped to the y-axis (Hint: You will need to use the “Genus”, “DBH”, and\n",
    "“TreeHeight” attributes.). "
   ]
  }
 ],
 "metadata": {
  "kernelspec": {
   "display_name": "py4sa",
   "language": "python",
   "name": "python3"
  },
  "language_info": {
   "codemirror_mode": {
    "name": "ipython",
    "version": 3
   },
   "file_extension": ".py",
   "mimetype": "text/x-python",
   "name": "python",
   "nbconvert_exporter": "python",
   "pygments_lexer": "ipython3",
   "version": "3.10.9"
  },
  "orig_nbformat": 4
 },
 "nbformat": 4,
 "nbformat_minor": 2
}
