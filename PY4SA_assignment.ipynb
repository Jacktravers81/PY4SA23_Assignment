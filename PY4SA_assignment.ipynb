{
 "cells": [
  {
   "attachments": {},
   "cell_type": "markdown",
   "metadata": {},
   "source": [
    "#### Lab Assignment 1 - Jack Travers\n",
    "#### Student ID: 200013389\n",
    "#### GitHub URL: https://github.com/Jacktravers81/PY4SA23_Assignment"
   ]
  },
  {
   "attachments": {},
   "cell_type": "markdown",
   "metadata": {},
   "source": [
    "##### Section One: Python Basics"
   ]
  },
  {
   "attachments": {},
   "cell_type": "markdown",
   "metadata": {},
   "source": [
    "Task 1: Create an If...Else statement that will test whether a number is divisible by three."
   ]
  },
  {
   "cell_type": "code",
   "execution_count": 79,
   "metadata": {},
   "outputs": [
    {
     "name": "stdout",
     "output_type": "stream",
     "text": [
      "11 is not divisible by 3\n"
     ]
    }
   ],
   "source": [
    "def divisible (n):\n",
    "    if n % 3 == 0:\n",
    "        print (n, \"is divisible by 3\")\n",
    "    else:\n",
    "        print (n, \"is not divisible by 3\")\n",
    "divisible (11)"
   ]
  },
  {
   "attachments": {},
   "cell_type": "markdown",
   "metadata": {},
   "source": [
    "Task 2: Create an If...Else statement that will test whether a type of fruit, represented as a text string, is in a list of acceptable fruits (apple, orange, pear, kiwi, or strawberry)."
   ]
  },
  {
   "cell_type": "code",
   "execution_count": 43,
   "metadata": {},
   "outputs": [
    {
     "name": "stdout",
     "output_type": "stream",
     "text": [
      "berry is not acceptable\n"
     ]
    }
   ],
   "source": [
    "fruit = [\"apple\", \"orange\", \"pear\", \"kiwi\", \"strawberry\"]\n",
    "\n",
    "def library(check):\n",
    "    if check in fruit:\n",
    "        print (check, \"is acceptable\")\n",
    "    else:\n",
    "        print (check, \"is not acceptable\")\n",
    "\n",
    "library(\"berry\")"
   ]
  },
  {
   "attachments": {},
   "cell_type": "markdown",
   "metadata": {},
   "source": [
    "Task 3: Create a function to calculate the distance between two coordinates using the haversine\n",
    "formula. Write the following formula where the input parameters are a pair of coordinates as two\n",
    "lists."
   ]
  },
  {
   "cell_type": "code",
   "execution_count": 44,
   "metadata": {},
   "outputs": [
    {
     "ename": "SyntaxError",
     "evalue": "invalid character '²' (U+00B2) (1688034982.py, line 5)",
     "output_type": "error",
     "traceback": [
      "\u001b[1;36m  Cell \u001b[1;32mIn[44], line 5\u001b[1;36m\u001b[0m\n\u001b[1;33m    a = sin²(φB - φA/2) + cos φA * cos φB * sin²(λB - λA/2)\u001b[0m\n\u001b[1;37m           ^\u001b[0m\n\u001b[1;31mSyntaxError\u001b[0m\u001b[1;31m:\u001b[0m invalid character '²' (U+00B2)\n"
     ]
    }
   ],
   "source": [
    "# COME BACK TO ME!!!!! \n",
    "\n",
    "a = sin²(φB - φA/2) + cos φA * cos φB * sin²(λB - λA/2)\n",
    "c = 2 * atan2( √a, √(1−a) )\n",
    "d = R ⋅ c"
   ]
  },
  {
   "attachments": {},
   "cell_type": "markdown",
   "metadata": {},
   "source": [
    "##### Section Two: Pandas and NumPy"
   ]
  },
  {
   "attachments": {},
   "cell_type": "markdown",
   "metadata": {},
   "source": [
    "Question 1: How many trees are of the Quercus or Acer genus?"
   ]
  },
  {
   "cell_type": "code",
   "execution_count": 80,
   "metadata": {},
   "outputs": [
    {
     "data": {
      "text/plain": [
       "Genus\n",
       "Pseudotsuga      6783\n",
       "Acer             3586\n",
       "Quercus          2089\n",
       "Prunus           1333\n",
       "Pinus             983\n",
       "                 ... \n",
       "Eucommia            1\n",
       "Eriobotrya          1\n",
       "Daphniphyllum       1\n",
       "Schima              1\n",
       "Illicium            1\n",
       "Length: 117, dtype: int64"
      ]
     },
     "execution_count": 80,
     "metadata": {},
     "output_type": "execute_result"
    }
   ],
   "source": [
    "import numpy as np \n",
    "import pandas as pd \n",
    "trees_df = pd.read_csv(\"Assignment 2 Data\\portland_park_trees.csv\", index_col=30)\n",
    "\n",
    "trees_df.value_counts(\"Genus\")"
   ]
  },
  {
   "attachments": {},
   "cell_type": "markdown",
   "metadata": {},
   "source": [
    "Answers:\n",
    "Genus *Acer*: 3586,\n",
    "Genus *Quercus*: 2089"
   ]
  },
  {
   "attachments": {},
   "cell_type": "markdown",
   "metadata": {},
   "source": [
    "Question 2: : How many trees are of the Quercus or Acer genus and have a DBH larger than 50 inches?"
   ]
  },
  {
   "cell_type": "code",
   "execution_count": 81,
   "metadata": {},
   "outputs": [
    {
     "data": {
      "text/plain": [
       "Genus\n",
       "Pseudotsuga      0.265646\n",
       "Acer             0.140440\n",
       "Quercus          0.081812\n",
       "Prunus           0.052205\n",
       "Pinus            0.038498\n",
       "                   ...   \n",
       "Eucommia         0.000039\n",
       "Eriobotrya       0.000039\n",
       "Daphniphyllum    0.000039\n",
       "Schima           0.000039\n",
       "Illicium         0.000039\n",
       "Length: 117, dtype: float64"
      ]
     },
     "execution_count": 81,
     "metadata": {},
     "output_type": "execute_result"
    }
   ],
   "source": [
    "import numpy as np \n",
    "import pandas as pd \n",
    "trees_df = pd.read_csv(\"Assignment 2 Data\\portland_park_trees.csv\", index_col=30)\n",
    "\n",
    "trees_df.value_counts(\"Genus\")\n",
    "\"DBH\" = > 50"
   ]
  }
 ],
 "metadata": {
  "kernelspec": {
   "display_name": "py4sa",
   "language": "python",
   "name": "python3"
  },
  "language_info": {
   "codemirror_mode": {
    "name": "ipython",
    "version": 3
   },
   "file_extension": ".py",
   "mimetype": "text/x-python",
   "name": "python",
   "nbconvert_exporter": "python",
   "pygments_lexer": "ipython3",
   "version": "3.10.9"
  },
  "orig_nbformat": 4
 },
 "nbformat": 4,
 "nbformat_minor": 2
}
